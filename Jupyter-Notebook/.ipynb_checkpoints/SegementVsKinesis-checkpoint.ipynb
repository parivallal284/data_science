{
 "cells": [
  {
   "cell_type": "markdown",
   "metadata": {},
   "source": [
    "# Segment Vs Kinesis Analysis"
   ]
  },
  {
   "cell_type": "code",
   "execution_count": 1,
   "metadata": {},
   "outputs": [],
   "source": [
    "import pgdbConnection"
   ]
  },
  {
   "cell_type": "code",
   "execution_count": 2,
   "metadata": {},
   "outputs": [
    {
     "name": "stdout",
     "output_type": "stream",
     "text": [
      "Connecting to database\n",
      "  ->host=data-pier-staging.cl8qfdl47mtr.ap-southeast-1.rds.amazonaws.com port=5432 dbname=data_pier user=data_team password=Z1QxYKXO9qjnXQwNVZlmofAWRjMth1nx\n",
      "Connected!\n",
      "\n"
     ]
    }
   ],
   "source": [
    "conn=pgdbConnection.get_connection()\n",
    "cursor = conn.cursor()\n",
    "cursor.execute(\"SELECT datname from pg_database\")\n",
    "rows = cursor.fetchall()"
   ]
  },
  {
   "cell_type": "code",
   "execution_count": 3,
   "metadata": {},
   "outputs": [
    {
     "name": "stdout",
     "output_type": "stream",
     "text": [
      "Show me the databases:\n",
      "template0\n",
      "rdsadmin\n",
      "template1\n",
      "postgres\n",
      "c3po\n",
      "data_pier\n"
     ]
    }
   ],
   "source": [
    "print (\"Show me the databases:\")\n",
    "for row in rows:\n",
    "    print (row[0])"
   ]
  },
  {
   "cell_type": "code",
   "execution_count": 5,
   "metadata": {},
   "outputs": [
    {
     "name": "stdout",
     "output_type": "stream",
     "text": [
      "[(109475, datetime.date(2019, 12, 4)),\n",
      " (184430, datetime.date(2019, 12, 5)),\n",
      " (149887, datetime.date(2019, 12, 6)),\n",
      " (140411, datetime.date(2019, 12, 7)),\n",
      " (149821, datetime.date(2019, 12, 8)),\n",
      " (172917, datetime.date(2019, 12, 9)),\n",
      " (191489, datetime.date(2019, 12, 10)),\n",
      " (93731, datetime.date(2019, 12, 11))]\n"
     ]
    }
   ],
   "source": [
    "cursor.execute(\"SELECT COUNT(*),CAST(received_at AS DATE) AS rdt FROM moneysmartsg_prod.pages WHERE url LIKE '%moneysmart.sg/%' AND received_at at TIME zone 'utc' at TIME zone 'SGT' >= '2019-12-04' GROUP BY rdt;\")\n",
    "rows = cursor.fetchall()\n",
    "\n",
    "import pprint\n",
    "pprint.pprint(rows)"
   ]
  },
  {
   "cell_type": "code",
   "execution_count": null,
   "metadata": {},
   "outputs": [],
   "source": []
  }
 ],
 "metadata": {
  "kernelspec": {
   "display_name": "Python 3",
   "language": "python",
   "name": "python3"
  },
  "language_info": {
   "codemirror_mode": {
    "name": "ipython",
    "version": 3
   },
   "file_extension": ".py",
   "mimetype": "text/x-python",
   "name": "python",
   "nbconvert_exporter": "python",
   "pygments_lexer": "ipython3",
   "version": "3.7.4"
  }
 },
 "nbformat": 4,
 "nbformat_minor": 4
}
