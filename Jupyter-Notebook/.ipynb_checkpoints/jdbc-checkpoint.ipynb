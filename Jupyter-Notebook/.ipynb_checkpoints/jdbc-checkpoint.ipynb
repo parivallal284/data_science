{
 "cells": [
  {
   "cell_type": "code",
   "execution_count": 1,
   "metadata": {},
   "outputs": [],
   "source": [
    "import psycopg2\n",
    "import sys"
   ]
  },
  {
   "cell_type": "code",
   "execution_count": 2,
   "metadata": {},
   "outputs": [],
   "source": [
    "#Enter the values for you database connection\n",
    "dsn_database = \"data_pier\"            # e.g. \"compose\"\n",
    "dsn_hostname = \"data-pier-staging.cl8qfdl47mtr.ap-southeast-1.rds.amazonaws.com\" # e.g.: \"aws-us-east-1-portal.4.dblayer.com\"\n",
    "dsn_port = \"5432\"                 # e.g. 11101 \n",
    "dsn_uid = \"data_team\"        # e.g. \"admin\"\n",
    "dsn_pwd = \"Z1QxYKXO9qjnXQwNVZlmofAWRjMth1nx\"      # e.g. \"xxx\""
   ]
  },
  {
   "cell_type": "code",
   "execution_count": 3,
   "metadata": {},
   "outputs": [
    {
     "name": "stdout",
     "output_type": "stream",
     "text": [
      "Connecting to database\n",
      "  ->host=data-pier-staging.cl8qfdl47mtr.ap-southeast-1.rds.amazonaws.com port=5432 dbname=data_pier user=data_team password=Z1QxYKXO9qjnXQwNVZlmofAWRjMth1nx\n",
      "Connected!\n",
      "\n"
     ]
    }
   ],
   "source": [
    "try:\n",
    "    conn_string = \"host=\"+dsn_hostname+\" port=\"+dsn_port+\" dbname=\"+dsn_database+\" user=\"+dsn_uid+\" password=\"+dsn_pwd\n",
    "    print (\"Connecting to database\\n  ->%s\" % (conn_string))\n",
    "    conn=psycopg2.connect(conn_string)\n",
    "    print (\"Connected!\\n\")\n",
    "except Exception as e:\n",
    "    print (\"Unable to connect to the database.%s\"%e)"
   ]
  },
  {
   "cell_type": "code",
   "execution_count": 4,
   "metadata": {},
   "outputs": [],
   "source": [
    "cursor = conn.cursor()\n",
    "cursor.execute(\"SELECT datname from pg_database\")\n",
    "rows = cursor.fetchall()"
   ]
  },
  {
   "cell_type": "code",
   "execution_count": 5,
   "metadata": {},
   "outputs": [
    {
     "name": "stdout",
     "output_type": "stream",
     "text": [
      "Show me the databases:\n",
      "template0\n",
      "rdsadmin\n",
      "template1\n",
      "postgres\n",
      "c3po\n",
      "data_pier\n"
     ]
    }
   ],
   "source": [
    "print (\"Show me the databases:\")\n",
    "for row in rows:\n",
    "    print (row[0])"
   ]
  },
  {
   "cell_type": "code",
   "execution_count": 6,
   "metadata": {},
   "outputs": [
    {
     "name": "stdout",
     "output_type": "stream",
     "text": [
      "[('api-1TjIJUltHwXoVhYmG04cF9z9pXc',\n",
      "  datetime.datetime(2019, 11, 17, 5, 3, 25, 545000, tzinfo=psycopg2.tz.FixedOffsetTimezone(offset=0, name=None)),\n",
      "  'unknown',\n",
      "  None,\n",
      "  'amp-nhcuhfxXkj_4Om1orqAPhgwLD44r_xqdOXuxkKzI-2HMtn-s6ZJHsHwviF6NVa1x',\n",
      "  'amp',\n",
      "  datetime.datetime(2019, 11, 17, 5, 3, 25, tzinfo=psycopg2.tz.FixedOffsetTimezone(offset=0, name=None)),\n",
      "  datetime.datetime(2019, 11, 17, 5, 43, 13, tzinfo=psycopg2.tz.FixedOffsetTimezone(offset=0, name=None)),\n",
      "  'Mozilla/5.0 (iPhone; CPU iPhone OS 13_1 like Mac OS X) AppleWebKit/605.1.15 '\n",
      "  '(KHTML, like Gecko) CriOS/78.0.3904.84 Mobile/15E148 Safari/604.1',\n",
      "  None,\n",
      "  None,\n",
      "  'Cord Blood Banking in Singapore - How Much Does It Cost & Is It Worth the '\n",
      "  'Money? - MoneySmart.sg',\n",
      "  'https://blog.moneysmart.sg/family/cord-blood-banking-singapore/',\n",
      "  datetime.datetime(2019, 11, 17, 5, 3, 25, 545000, tzinfo=psycopg2.tz.FixedOffsetTimezone(offset=0, name=None)),\n",
      "  None,\n",
      "  '116.89.74.254',\n",
      "  '/family/cord-blood-banking-singapore/',\n",
      "  None,\n",
      "  None,\n",
      "  None,\n",
      "  None,\n",
      "  None,\n",
      "  'https://www.google.com/',\n",
      "  None,\n",
      "  None,\n",
      "  None,\n",
      "  None,\n",
      "  None,\n",
      "  None,\n",
      "  None,\n",
      "  None,\n",
      "  None,\n",
      "  'ms_experiment_wa0051',\n",
      "  True,\n",
      "  '375',\n",
      "  'en-sg',\n",
      "  '812',\n",
      "  None,\n",
      "  None,\n",
      "  None,\n",
      "  None,\n",
      "  None,\n",
      "  None,\n",
      "  None,\n",
      "  None,\n",
      "  None,\n",
      "  None,\n",
      "  None,\n",
      "  None,\n",
      "  None,\n",
      "  None,\n",
      "  None,\n",
      "  None,\n",
      "  None,\n",
      "  None,\n",
      "  None,\n",
      "  None,\n",
      "  None,\n",
      "  None,\n",
      "  None,\n",
      "  None,\n",
      "  None,\n",
      "  None,\n",
      "  None,\n",
      "  None,\n",
      "  None,\n",
      "  None,\n",
      "  None,\n",
      "  None,\n",
      "  None,\n",
      "  None,\n",
      "  None,\n",
      "  None,\n",
      "  None,\n",
      "  None,\n",
      "  None,\n",
      "  None,\n",
      "  None,\n",
      "  None,\n",
      "  None,\n",
      "  None,\n",
      "  None,\n",
      "  None,\n",
      "  None,\n",
      "  None,\n",
      "  None,\n",
      "  None,\n",
      "  None,\n",
      "  None,\n",
      "  None,\n",
      "  None,\n",
      "  None,\n",
      "  None,\n",
      "  None,\n",
      "  None,\n",
      "  None,\n",
      "  None,\n",
      "  None,\n",
      "  None,\n",
      "  None,\n",
      "  None)]\n"
     ]
    }
   ],
   "source": [
    "cursor.execute(\"SELECT * from moneysmartsg_prod.pages limit 1\")\n",
    "rows = cursor.fetchall()\n",
    "\n",
    "import pprint\n",
    "pprint.pprint(rows)"
   ]
  },
  {
   "cell_type": "code",
   "execution_count": null,
   "metadata": {},
   "outputs": [],
   "source": [
    "conn.close()"
   ]
  }
 ],
 "metadata": {
  "kernelspec": {
   "display_name": "Python 3",
   "language": "python",
   "name": "python3"
  },
  "language_info": {
   "codemirror_mode": {
    "name": "ipython",
    "version": 3
   },
   "file_extension": ".py",
   "mimetype": "text/x-python",
   "name": "python",
   "nbconvert_exporter": "python",
   "pygments_lexer": "ipython3",
   "version": "3.7.4"
  }
 },
 "nbformat": 4,
 "nbformat_minor": 4
}
