{
 "cells": [
  {
   "cell_type": "code",
   "execution_count": 4,
   "metadata": {},
   "outputs": [],
   "source": [
    "import psycopg2\n",
    "import sys"
   ]
  },
  {
   "cell_type": "code",
   "execution_count": 5,
   "metadata": {},
   "outputs": [],
   "source": [
    "#Enter the values for you database connection\n",
    "dsn_database = \"data_pier\"            # e.g. \"compose\"\n",
    "dsn_hostname = \"data-pier-production.cl8qfdl47mtr.ap-southeast-1.rds.amazonaws.com\" # e.g.: \"aws-us-east-1-portal.4.dblayer.com\"\n",
    "dsn_port = \"5432\"                 # e.g. 11101 \n",
    "dsn_uid = \"pari\"        # e.g. \"admin\"\n",
    "dsn_pwd = \"ja5DAmTK8hD3zuPpnNaySJJcgYxnLGJD\"      # e.g. \"xxx\""
   ]
  },
  {
   "cell_type": "code",
   "execution_count": 6,
   "metadata": {},
   "outputs": [
    {
     "name": "stdout",
     "output_type": "stream",
     "text": [
      "Connecting to database\n",
      "  ->host=data-pier-production.cl8qfdl47mtr.ap-southeast-1.rds.amazonaws.com port=5432 dbname=data_pier user=pari password=ja5DAmTK8hD3zuPpnNaySJJcgYxnLGJD\n",
      "Connected!\n",
      "\n"
     ]
    }
   ],
   "source": [
    "try:\n",
    "    conn_string = \"host=\"+dsn_hostname+\" port=\"+dsn_port+\" dbname=\"+dsn_database+\" user=\"+dsn_uid+\" password=\"+dsn_pwd\n",
    "    print (\"Connecting to database\\n  ->%s\" % (conn_string))\n",
    "    conn=psycopg2.connect(conn_string)\n",
    "    print (\"Connected!\\n\")\n",
    "except Exception as e:\n",
    "    print (\"Unable to connect to the database.%s\"%e)"
   ]
  },
  {
   "cell_type": "code",
   "execution_count": 8,
   "metadata": {},
   "outputs": [],
   "source": [
    "cursor = conn.cursor()\n",
    "cursor.execute(\"SELECT datname from pg_database\")\n",
    "rows = cursor.fetchall()"
   ]
  },
  {
   "cell_type": "code",
   "execution_count": 9,
   "metadata": {},
   "outputs": [
    {
     "name": "stdout",
     "output_type": "stream",
     "text": [
      "Show me the databases:\n",
      "template0\n",
      "rdsadmin\n",
      "template1\n",
      "postgres\n",
      "data_pier\n"
     ]
    }
   ],
   "source": [
    "print (\"Show me the databases:\")\n",
    "for row in rows:\n",
    "    print (row[0])"
   ]
  },
  {
   "cell_type": "code",
   "execution_count": 10,
   "metadata": {},
   "outputs": [
    {
     "name": "stdout",
     "output_type": "stream",
     "text": [
      "[('ajs-b0f2273bb1a595f23394e20d0d85cc70',\n",
      "  datetime.datetime(2019, 8, 4, 10, 14, 50, 10000, tzinfo=psycopg2.tz.FixedOffsetTimezone(offset=0, name=None)),\n",
      "  '202.133.213.163',\n",
      "  '/travel/ktm-train-to-jb-guide/',\n",
      "  None,\n",
      "  'https://blog.moneysmart.sg/travel/ktm-train-to-jb-guide/',\n",
      "  datetime.datetime(2019, 8, 4, 10, 14, 49, 994000, tzinfo=psycopg2.tz.FixedOffsetTimezone(offset=0, name=None)),\n",
      "  None,\n",
      "  '3.9.0',\n",
      "  None,\n",
      "  'How to Take Train to JB from Singapore (2019): KTM Ticket Prices',\n",
      "  datetime.datetime(2019, 8, 4, 10, 14, 48, 595000, tzinfo=psycopg2.tz.FixedOffsetTimezone(offset=0, name=None)),\n",
      "  None,\n",
      "  None,\n",
      "  datetime.datetime(2019, 8, 4, 10, 14, 49, tzinfo=psycopg2.tz.FixedOffsetTimezone(offset=0, name=None)),\n",
      "  '9c48cb75-2d47-456f-89eb-c6c1084f9d55',\n",
      "  'Mozilla/5.0 (Linux; U; Android 8.0.0; en-gb; MI 5 Build/OPR1.170623.032) '\n",
      "  'AppleWebKit/537.36 (KHTML, like Gecko) Version/4.0 Chrome/71.0.3578.141 '\n",
      "  'Mobile Safari/537.36 XiaoMi/MiuiBrowser/10.9.7-g',\n",
      "  'https://blog.moneysmart.sg/travel/ktm-train-to-jb-guide/',\n",
      "  None,\n",
      "  'analytics.js',\n",
      "  '/travel/ktm-train-to-jb-guide/',\n",
      "  None,\n",
      "  'https://www.google.com/',\n",
      "  datetime.datetime(2019, 8, 4, 11, 46, 28, tzinfo=psycopg2.tz.FixedOffsetTimezone(offset=0, name=None)),\n",
      "  None,\n",
      "  None,\n",
      "  'https://www.google.com/',\n",
      "  'How to Take Train to JB from Singapore (2019): KTM Ticket Prices',\n",
      "  None,\n",
      "  None,\n",
      "  None,\n",
      "  None,\n",
      "  None,\n",
      "  None,\n",
      "  None,\n",
      "  None,\n",
      "  None,\n",
      "  None,\n",
      "  None,\n",
      "  None,\n",
      "  None,\n",
      "  None,\n",
      "  None,\n",
      "  None,\n",
      "  None,\n",
      "  None,\n",
      "  None,\n",
      "  None,\n",
      "  None,\n",
      "  None,\n",
      "  None,\n",
      "  None,\n",
      "  None,\n",
      "  None,\n",
      "  None,\n",
      "  None,\n",
      "  None,\n",
      "  None,\n",
      "  None,\n",
      "  None,\n",
      "  None,\n",
      "  None,\n",
      "  None,\n",
      "  None,\n",
      "  None,\n",
      "  None,\n",
      "  None,\n",
      "  None,\n",
      "  None,\n",
      "  None,\n",
      "  None,\n",
      "  None,\n",
      "  None,\n",
      "  None,\n",
      "  None,\n",
      "  None,\n",
      "  None,\n",
      "  None,\n",
      "  None,\n",
      "  None,\n",
      "  None,\n",
      "  None,\n",
      "  None,\n",
      "  None,\n",
      "  None,\n",
      "  None,\n",
      "  None,\n",
      "  None,\n",
      "  None,\n",
      "  None,\n",
      "  None,\n",
      "  None,\n",
      "  None,\n",
      "  None,\n",
      "  None,\n",
      "  None,\n",
      "  None,\n",
      "  None,\n",
      "  None,\n",
      "  None,\n",
      "  None)]\n"
     ]
    }
   ],
   "source": [
    "cursor.execute(\"SELECT * from moneysmartsg_prod.pages limit 1\")\n",
    "rows = cursor.fetchall()\n",
    "\n",
    "import pprint\n",
    "pprint.pprint(rows)"
   ]
  },
  {
   "cell_type": "code",
   "execution_count": 11,
   "metadata": {},
   "outputs": [],
   "source": [
    "conn.close()"
   ]
  },
  {
   "cell_type": "code",
   "execution_count": null,
   "metadata": {},
   "outputs": [],
   "source": []
  }
 ],
 "metadata": {
  "kernelspec": {
   "display_name": "conda_python3",
   "language": "python",
   "name": "conda_python3"
  },
  "language_info": {
   "codemirror_mode": {
    "name": "ipython",
    "version": 3
   },
   "file_extension": ".py",
   "mimetype": "text/x-python",
   "name": "python",
   "nbconvert_exporter": "python",
   "pygments_lexer": "ipython3",
   "version": "3.6.5"
  }
 },
 "nbformat": 4,
 "nbformat_minor": 4
}
