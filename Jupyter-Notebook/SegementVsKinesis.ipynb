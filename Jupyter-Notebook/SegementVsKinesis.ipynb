{
 "cells": [
  {
   "cell_type": "markdown",
   "metadata": {},
   "source": [
    "# Segment Vs Kinesis Analysis"
   ]
  },
  {
   "cell_type": "code",
   "execution_count": 1,
   "metadata": {},
   "outputs": [
    {
     "name": "stderr",
     "output_type": "stream",
     "text": [
      "/home/ec2-user/anaconda3/envs/python3/lib/python3.6/site-packages/psycopg2/__init__.py:144: UserWarning: The psycopg2 wheel package will be renamed from release 2.8; in order to keep installing from binary please use \"pip install psycopg2-binary\" instead. For details see: <http://initd.org/psycopg/docs/install.html#binary-install-from-pypi>.\n",
      "  \"\"\")\n"
     ]
    }
   ],
   "source": [
    "import pgdbConnection"
   ]
  },
  {
   "cell_type": "code",
   "execution_count": 2,
   "metadata": {},
   "outputs": [
    {
     "name": "stdout",
     "output_type": "stream",
     "text": [
      "Connecting to database\n",
      "  ->host=data-pier-production.cl8qfdl47mtr.ap-southeast-1.rds.amazonaws.com port=5432 dbname=data_pier user=pari password=ja5DAmTK8hD3zuPpnNaySJJcgYxnLGJD\n",
      "Connected!\n",
      "\n"
     ]
    }
   ],
   "source": [
    "conn=pgdbConnection.get_connection()\n",
    "cursor = conn.cursor()\n",
    "cursor.execute(\"SELECT datname from pg_database\")\n",
    "rows = cursor.fetchall()"
   ]
  },
  {
   "cell_type": "code",
   "execution_count": 3,
   "metadata": {},
   "outputs": [
    {
     "name": "stdout",
     "output_type": "stream",
     "text": [
      "Show me the databases:\n",
      "template0\n",
      "rdsadmin\n",
      "template1\n",
      "postgres\n",
      "data_pier\n"
     ]
    }
   ],
   "source": [
    "print (\"Show me the databases:\")\n",
    "for row in rows:\n",
    "    print (row[0])"
   ]
  },
  {
   "cell_type": "code",
   "execution_count": 4,
   "metadata": {},
   "outputs": [
    {
     "name": "stdout",
     "output_type": "stream",
     "text": [
      "[(167, datetime.date(2019, 12, 6)),\n",
      " (245, datetime.date(2019, 12, 9)),\n",
      " (243, datetime.date(2019, 12, 4)),\n",
      " (186, datetime.date(2019, 12, 5)),\n",
      " (182, datetime.date(2019, 12, 10)),\n",
      " (120, datetime.date(2019, 12, 11)),\n",
      " (192, datetime.date(2019, 12, 8)),\n",
      " (153, datetime.date(2019, 12, 7)),\n",
      " (47, datetime.date(2019, 12, 12)),\n",
      " (239, datetime.date(2019, 12, 3))]\n"
     ]
    }
   ],
   "source": [
    "cursor.execute(\"SELECT COUNT(*),CAST(received_at AS DATE) AS rdt FROM moneysmartsg_prod.lead_generation_click_conversion WHERE CAST(received_at AS DATE) >='2019-12-03' GROUP BY rdt;\")\n",
    "rows = cursor.fetchall()\n",
    "\n",
    "import pprint\n",
    "pprint.pprint(rows)"
   ]
  },
  {
   "cell_type": "code",
   "execution_count": null,
   "metadata": {},
   "outputs": [],
   "source": []
  },
  {
   "cell_type": "code",
   "execution_count": 1,
   "metadata": {},
   "outputs": [
    {
     "name": "stderr",
     "output_type": "stream",
     "text": [
      "/home/ec2-user/anaconda3/envs/python3/lib/python3.6/site-packages/psycopg2/__init__.py:144: UserWarning: The psycopg2 wheel package will be renamed from release 2.8; in order to keep installing from binary please use \"pip install psycopg2-binary\" instead. For details see: <http://initd.org/psycopg/docs/install.html#binary-install-from-pypi>.\n",
      "  \"\"\")\n"
     ]
    }
   ],
   "source": [
    "import sys\n",
    "try:\n",
    "    from pyathena import connect\n",
    "except:\n",
    "    print(\"Failed to import pyathena, trying to install it\")\n",
    "    !{sys.executable} -m pip install PyAthena\n",
    "    from pyathena import connect\n",
    "    print(\"successfully installed\")\n",
    "try:\n",
    "    import psycopg2\n",
    "except:\n",
    "    print(\"Failed ot import psychopg2, trying to install it\")\n",
    "    !{sys.executable} -m pip install psycopg2-binary\n",
    "    import psycopg2\n",
    "    print(\"Successfully installed\")\n",
    "    \n",
    "import pandas as pd\n",
    "import athenaConnection\n"
   ]
  },
  {
   "cell_type": "markdown",
   "metadata": {},
   "source": [
    "# Events from Athena"
   ]
  },
  {
   "cell_type": "code",
   "execution_count": 2,
   "metadata": {},
   "outputs": [
    {
     "name": "stdout",
     "output_type": "stream",
     "text": [
      "Connecting to Athena\n"
     ]
    }
   ],
   "source": [
    "print(\"Connecting to Athena\")\n",
    "athena = athenaConnection.AthenaQuery()\n",
    "athena_conn, athena_cursor =athena.connect_to_athena()\n",
    "athena.connect()\n"
   ]
  },
  {
   "cell_type": "code",
   "execution_count": 11,
   "metadata": {},
   "outputs": [],
   "source": [
    "# config values..\n",
    "event_log_s3_path = \"s3://ms-data-pipeline-production/ms-data-stream-production-processed\"\n",
    "event_log_s3_bucket = event_log_s3_path.split(\"s3://\")[1].split(\"/\")[0]\n",
    "event_log_s3_prefix = event_log_s3_path.split(\"/\")[-1]\n",
    "athena_bucket_path = \"s3://aws-athena-query-results-358002497134-ap-southeast-1/\"\n",
    "#athena_database = \"ms_data_processed_production\"\n",
    "athena_database = \"data_science\"\n",
    "athena_raw_events_table = \"ms_data_stream_production_processed\"\n",
    "#athena_raw_events_table = \"ms_data_stream_production_processed_cd5f4696237059a21d780afa83822e6b\"\n",
    "athena_year_partition = \"partition_0\" #2019\n",
    "athena_month_partition = \"partition_1\" #02\n",
    "athena_day_partition = \"partition_2\" #0\n",
    "athena_easy_events_table =  \"id_ab_test\"\n",
    "aws_region_name = \"ap-southeast-1\"\n"
   ]
  },
  {
   "cell_type": "code",
   "execution_count": 22,
   "metadata": {},
   "outputs": [
    {
     "name": "stdout",
     "output_type": "stream",
     "text": [
      "Running small test query to check the athena connection\n"
     ]
    },
    {
     "data": {
      "text/html": [
       "<div>\n",
       "<style scoped>\n",
       "    .dataframe tbody tr th:only-of-type {\n",
       "        vertical-align: middle;\n",
       "    }\n",
       "\n",
       "    .dataframe tbody tr th {\n",
       "        vertical-align: top;\n",
       "    }\n",
       "\n",
       "    .dataframe thead th {\n",
       "        text-align: right;\n",
       "    }\n",
       "</style>\n",
       "<table border=\"1\" class=\"dataframe\">\n",
       "  <thead>\n",
       "    <tr style=\"text-align: right;\">\n",
       "      <th></th>\n",
       "      <th>type</th>\n",
       "      <th>context</th>\n",
       "      <th>user</th>\n",
       "      <th>body</th>\n",
       "      <th>sent_at</th>\n",
       "      <th>partition_0</th>\n",
       "      <th>partition_1</th>\n",
       "      <th>partition_2</th>\n",
       "    </tr>\n",
       "  </thead>\n",
       "  <tbody>\n",
       "    <tr>\n",
       "      <th>0</th>\n",
       "      <td>event</td>\n",
       "      <td>{title=smartwidget_client, page_url=https://ww...</td>\n",
       "      <td>{anonymous_id=5ef3d608-a823-4884-8a91-ccd112d9...</td>\n",
       "      <td>{event_name=UserView.WidgetLoad, data={title=n...</td>\n",
       "      <td>2019-12-08T11:11:44.909Z</td>\n",
       "      <td>2019</td>\n",
       "      <td>12</td>\n",
       "      <td>8</td>\n",
       "    </tr>\n",
       "    <tr>\n",
       "      <th>1</th>\n",
       "      <td>event</td>\n",
       "      <td>{title=KLOOK Promo Code Singapore Guide — Cred...</td>\n",
       "      <td>{anonymous_id=0e85b318-2c9b-4629-9e7c-9012824e...</td>\n",
       "      <td>{event_name=Reading, data={title=KLOOK Promo C...</td>\n",
       "      <td>2019-12-08T11:11:44.716Z</td>\n",
       "      <td>2019</td>\n",
       "      <td>12</td>\n",
       "      <td>8</td>\n",
       "    </tr>\n",
       "    <tr>\n",
       "      <th>2</th>\n",
       "      <td>event</td>\n",
       "      <td>{title=15 Usaha Makanan Unik dan Kreatif yang ...</td>\n",
       "      <td>{anonymous_id=8dbbedea-e917-4ef4-8d74-4acc41b0...</td>\n",
       "      <td>{event_name=Reading, data={title=15 Usaha Maka...</td>\n",
       "      <td>2019-12-08T11:11:44.013Z</td>\n",
       "      <td>2019</td>\n",
       "      <td>12</td>\n",
       "      <td>8</td>\n",
       "    </tr>\n",
       "    <tr>\n",
       "      <th>3</th>\n",
       "      <td>event</td>\n",
       "      <td>{title=MMA Studios in Singapore: Best Places T...</td>\n",
       "      <td>{anonymous_id=767eaaf6-ca3b-4e84-9bdf-5ea74b09...</td>\n",
       "      <td>{event_name=Reading, data={title=MMA Studios i...</td>\n",
       "      <td>2019-12-08T11:11:44.266Z</td>\n",
       "      <td>2019</td>\n",
       "      <td>12</td>\n",
       "      <td>8</td>\n",
       "    </tr>\n",
       "    <tr>\n",
       "      <th>4</th>\n",
       "      <td>event</td>\n",
       "      <td>{title=Fitri Salhuteru dan 6 Kaosnya yang Seha...</td>\n",
       "      <td>{anonymous_id=02e53ae4-52b3-4d95-a81c-4198c662...</td>\n",
       "      <td>{event_name=Reading, data={title=Fitri Salhute...</td>\n",
       "      <td>2019-12-08T11:11:48.781Z</td>\n",
       "      <td>2019</td>\n",
       "      <td>12</td>\n",
       "      <td>8</td>\n",
       "    </tr>\n",
       "    <tr>\n",
       "      <th>5</th>\n",
       "      <td>event</td>\n",
       "      <td>{title=Rincian Lengkap Biaya Tambah Daya Listr...</td>\n",
       "      <td>{anonymous_id=21790dbf-b77a-4934-aa82-399cf081...</td>\n",
       "      <td>{event_name=Reading, data={title=Rincian Lengk...</td>\n",
       "      <td>2019-12-08T11:11:54.427Z</td>\n",
       "      <td>2019</td>\n",
       "      <td>12</td>\n",
       "      <td>8</td>\n",
       "    </tr>\n",
       "    <tr>\n",
       "      <th>6</th>\n",
       "      <td>event</td>\n",
       "      <td>{title=Berapa Gaji Youtuber? Begini Cara Mengh...</td>\n",
       "      <td>{anonymous_id=729c038a-e47c-44b5-b1e5-de66c1be...</td>\n",
       "      <td>{event_name=Reading, data={title=Berapa Gaji Y...</td>\n",
       "      <td>2019-12-08T11:11:42.534Z</td>\n",
       "      <td>2019</td>\n",
       "      <td>12</td>\n",
       "      <td>8</td>\n",
       "    </tr>\n",
       "    <tr>\n",
       "      <th>7</th>\n",
       "      <td>event</td>\n",
       "      <td>{title=【大阪環球影城】USJ入場門票及快證 2019最新價格比較 | MoneySm...</td>\n",
       "      <td>{anonymous_id=13927015-9557-426c-9f52-a9293280...</td>\n",
       "      <td>{event_name=Reading, data={title=【大阪環球影城】USJ入場...</td>\n",
       "      <td>2019-12-08T11:11:41.811Z</td>\n",
       "      <td>2019</td>\n",
       "      <td>12</td>\n",
       "      <td>8</td>\n",
       "    </tr>\n",
       "    <tr>\n",
       "      <th>8</th>\n",
       "      <td>page</td>\n",
       "      <td>{title=smartwidget_client, page_url=https://ww...</td>\n",
       "      <td>{anonymous_id=5ef3d608-a823-4884-8a91-ccd112d9...</td>\n",
       "      <td>{event_name=PageView, data={title=null, status...</td>\n",
       "      <td>2019-12-08T11:11:44.852Z</td>\n",
       "      <td>2019</td>\n",
       "      <td>12</td>\n",
       "      <td>8</td>\n",
       "    </tr>\n",
       "    <tr>\n",
       "      <th>9</th>\n",
       "      <td>event</td>\n",
       "      <td>{title=Maryono Mantan Dirut BTN Kekayaannya Me...</td>\n",
       "      <td>{anonymous_id=f8ab76be-34a8-4aa3-946f-8e6bbfde...</td>\n",
       "      <td>{event_name=Reading, data={title=Maryono Manta...</td>\n",
       "      <td>2019-12-08T11:13:17.702Z</td>\n",
       "      <td>2019</td>\n",
       "      <td>12</td>\n",
       "      <td>8</td>\n",
       "    </tr>\n",
       "  </tbody>\n",
       "</table>\n",
       "</div>"
      ],
      "text/plain": [
       "    type                                            context  \\\n",
       "0  event  {title=smartwidget_client, page_url=https://ww...   \n",
       "1  event  {title=KLOOK Promo Code Singapore Guide — Cred...   \n",
       "2  event  {title=15 Usaha Makanan Unik dan Kreatif yang ...   \n",
       "3  event  {title=MMA Studios in Singapore: Best Places T...   \n",
       "4  event  {title=Fitri Salhuteru dan 6 Kaosnya yang Seha...   \n",
       "5  event  {title=Rincian Lengkap Biaya Tambah Daya Listr...   \n",
       "6  event  {title=Berapa Gaji Youtuber? Begini Cara Mengh...   \n",
       "7  event  {title=【大阪環球影城】USJ入場門票及快證 2019最新價格比較 | MoneySm...   \n",
       "8   page  {title=smartwidget_client, page_url=https://ww...   \n",
       "9  event  {title=Maryono Mantan Dirut BTN Kekayaannya Me...   \n",
       "\n",
       "                                                user  \\\n",
       "0  {anonymous_id=5ef3d608-a823-4884-8a91-ccd112d9...   \n",
       "1  {anonymous_id=0e85b318-2c9b-4629-9e7c-9012824e...   \n",
       "2  {anonymous_id=8dbbedea-e917-4ef4-8d74-4acc41b0...   \n",
       "3  {anonymous_id=767eaaf6-ca3b-4e84-9bdf-5ea74b09...   \n",
       "4  {anonymous_id=02e53ae4-52b3-4d95-a81c-4198c662...   \n",
       "5  {anonymous_id=21790dbf-b77a-4934-aa82-399cf081...   \n",
       "6  {anonymous_id=729c038a-e47c-44b5-b1e5-de66c1be...   \n",
       "7  {anonymous_id=13927015-9557-426c-9f52-a9293280...   \n",
       "8  {anonymous_id=5ef3d608-a823-4884-8a91-ccd112d9...   \n",
       "9  {anonymous_id=f8ab76be-34a8-4aa3-946f-8e6bbfde...   \n",
       "\n",
       "                                                body  \\\n",
       "0  {event_name=UserView.WidgetLoad, data={title=n...   \n",
       "1  {event_name=Reading, data={title=KLOOK Promo C...   \n",
       "2  {event_name=Reading, data={title=15 Usaha Maka...   \n",
       "3  {event_name=Reading, data={title=MMA Studios i...   \n",
       "4  {event_name=Reading, data={title=Fitri Salhute...   \n",
       "5  {event_name=Reading, data={title=Rincian Lengk...   \n",
       "6  {event_name=Reading, data={title=Berapa Gaji Y...   \n",
       "7  {event_name=Reading, data={title=【大阪環球影城】USJ入場...   \n",
       "8  {event_name=PageView, data={title=null, status...   \n",
       "9  {event_name=Reading, data={title=Maryono Manta...   \n",
       "\n",
       "                    sent_at  partition_0  partition_1  partition_2  \n",
       "0  2019-12-08T11:11:44.909Z         2019           12            8  \n",
       "1  2019-12-08T11:11:44.716Z         2019           12            8  \n",
       "2  2019-12-08T11:11:44.013Z         2019           12            8  \n",
       "3  2019-12-08T11:11:44.266Z         2019           12            8  \n",
       "4  2019-12-08T11:11:48.781Z         2019           12            8  \n",
       "5  2019-12-08T11:11:54.427Z         2019           12            8  \n",
       "6  2019-12-08T11:11:42.534Z         2019           12            8  \n",
       "7  2019-12-08T11:11:41.811Z         2019           12            8  \n",
       "8  2019-12-08T11:11:44.852Z         2019           12            8  \n",
       "9  2019-12-08T11:13:17.702Z         2019           12            8  "
      ]
     },
     "execution_count": 22,
     "metadata": {},
     "output_type": "execute_result"
    }
   ],
   "source": [
    "print(\"Running small test query to check the athena connection\")\n",
    "query = \"select * from data_science.ms_data_stream_production_processed limit 10\"\n",
    "#pd.read_sql(query, athena_conn)#using pandas\n",
    "athena.query(query)#using custom implementation"
   ]
  },
  {
   "cell_type": "code",
   "execution_count": null,
   "metadata": {},
   "outputs": [],
   "source": []
  }
 ],
 "metadata": {
  "kernelspec": {
   "display_name": "conda_python3",
   "language": "python",
   "name": "conda_python3"
  },
  "language_info": {
   "codemirror_mode": {
    "name": "ipython",
    "version": 3
   },
   "file_extension": ".py",
   "mimetype": "text/x-python",
   "name": "python",
   "nbconvert_exporter": "python",
   "pygments_lexer": "ipython3",
   "version": "3.6.5"
  }
 },
 "nbformat": 4,
 "nbformat_minor": 4
}
