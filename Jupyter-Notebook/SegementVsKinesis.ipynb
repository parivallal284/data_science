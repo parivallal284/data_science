{
 "cells": [
  {
   "cell_type": "markdown",
   "metadata": {},
   "source": [
    "# Segement Vs Kinesis Comparision "
   ]
  },
  {
   "cell_type": "code",
   "execution_count": 8,
   "metadata": {
    "jupyter": {
     "source_hidden": true
    }
   },
   "outputs": [],
   "source": [
    "# config values..\n",
    "event_log_s3_path = \"s3://ms-data-pipeline-production/ms-data-stream-production-processed\"\n",
    "event_log_s3_bucket = event_log_s3_path.split(\"s3://\")[1].split(\"/\")[0]\n",
    "event_log_s3_prefix = event_log_s3_path.split(\"/\")[-1]\n",
    "athena_bucket_path = \"s3://aws-athena-query-results-358002497134-ap-southeast-1/\"\n",
    "#athena_database = \"ms_data_processed_production\"\n",
    "athena_database = \"data_science\"\n",
    "athena_raw_events_table = \"ms_data_stream_production_processed\"\n",
    "#athena_raw_events_table = \"ms_data_stream_production_processed_cd5f4696237059a21d780afa83822e6b\"\n",
    "athena_year_partition = \"partition_0\" #2019\n",
    "athena_month_partition = \"partition_1\" #02\n",
    "athena_day_partition = \"partition_2\" #0\n",
    "athena_easy_events_table =  \"id_ab_test\"\n",
    "aws_region_name = \"ap-southeast-1\"\n"
   ]
  },
  {
   "cell_type": "code",
   "execution_count": 9,
   "metadata": {
    "jupyter": {
     "source_hidden": true
    }
   },
   "outputs": [],
   "source": [
    "import sys\n",
    "try:\n",
    "    from pyathena import connect\n",
    "except:\n",
    "    print(\"Failed to import pyathena, trying to install it\")\n",
    "    !{sys.executable} -m pip install PyAthena\n",
    "    from pyathena import connect\n",
    "    print(\"successfully installed\")\n",
    "try:\n",
    "    import psycopg2\n",
    "except:\n",
    "    print(\"Failed ot import psychopg2, trying to install it\")\n",
    "    !{sys.executable} -m pip install psycopg2-binary\n",
    "    import psycopg2\n",
    "    print(\"Successfully installed\")\n",
    "    \n",
    "import pandas as pd\n",
    "import athenaConnection"
   ]
  },
  {
   "cell_type": "markdown",
   "metadata": {},
   "source": [
    "# Events from Athena (KINESIS)"
   ]
  },
  {
   "cell_type": "code",
   "execution_count": 10,
   "metadata": {
    "collapsed": true,
    "jupyter": {
     "outputs_hidden": true,
     "source_hidden": true
    }
   },
   "outputs": [
    {
     "name": "stdout",
     "output_type": "stream",
     "text": [
      "Connecting to Athena\n"
     ]
    }
   ],
   "source": [
    "print(\"Connecting to Athena\")\n",
    "athena = athenaConnection.AthenaQuery()\n",
    "athena_conn, athena_cursor =athena.connect_to_athena()\n",
    "athena.connect()\n"
   ]
  },
  {
   "cell_type": "code",
   "execution_count": 11,
   "metadata": {
    "collapsed": true,
    "jupyter": {
     "outputs_hidden": true,
     "source_hidden": true
    }
   },
   "outputs": [
    {
     "name": "stdout",
     "output_type": "stream",
     "text": [
      "Running small test query to check the athena connection\n"
     ]
    }
   ],
   "source": [
    "print(\"Running small test query to check the athena connection\")\n",
    "query = \"select * from data_science.ms_data_stream_production_processed limit 10\"\n",
    "#pd.read_sql(query, athena_conn)#using pandas\n",
    "kdf=athena.query(query)#using custom implementation"
   ]
  },
  {
   "cell_type": "code",
   "execution_count": 12,
   "metadata": {
    "collapsed": true,
    "jupyter": {
     "outputs_hidden": true,
     "source_hidden": true
    }
   },
   "outputs": [
    {
     "data": {
      "text/plain": [
       "Index(['type', 'context', 'user', 'body', 'sent_at', 'partition_0',\n",
       "       'partition_1', 'partition_2'],\n",
       "      dtype='object')"
      ]
     },
     "execution_count": 12,
     "metadata": {},
     "output_type": "execute_result"
    }
   ],
   "source": [
    "kdf.columns"
   ]
  },
  {
   "cell_type": "markdown",
   "metadata": {},
   "source": [
    "# Events from Postges (SEGMENT)"
   ]
  },
  {
   "cell_type": "code",
   "execution_count": 14,
   "metadata": {
    "collapsed": true,
    "jupyter": {
     "outputs_hidden": true,
     "source_hidden": true
    }
   },
   "outputs": [
    {
     "name": "stdout",
     "output_type": "stream",
     "text": [
      "Connecting to database\n",
      "  ->host=data-pier-production.cl8qfdl47mtr.ap-southeast-1.rds.amazonaws.com port=5432 dbname=data_pier user=pari password=ja5DAmTK8hD3zuPpnNaySJJcgYxnLGJD\n",
      "Connected!\n",
      "\n"
     ]
    }
   ],
   "source": [
    "import pgdbConnection\n",
    "pgConn=pgdbConnection.get_connection()"
   ]
  },
  {
   "cell_type": "code",
   "execution_count": 15,
   "metadata": {
    "jupyter": {
     "source_hidden": true
    }
   },
   "outputs": [],
   "source": [
    "sdf = pd.read_sql(\"SELECT * FROM moneysmartsg_prod.lead_generation_conversion LIMIT 2\",con=pgConn)"
   ]
  },
  {
   "cell_type": "code",
   "execution_count": 17,
   "metadata": {
    "collapsed": true,
    "jupyter": {
     "outputs_hidden": true,
     "source_hidden": true
    }
   },
   "outputs": [
    {
     "data": {
      "text/plain": [
       "Index(['id', 'received_at', 'context_campaign_source',\n",
       "       'context_library_version', 'is_paid', 'list_position', 'page_referrer',\n",
       "       'channel', 'context_page_url', 'destination_url', 'event_type',\n",
       "       'eventtype', 'product_name', 'form_step', 'is_sponsored', 'page_path',\n",
       "       'sent_at', 'anonymous_id', 'context_user_agent', 'event_text',\n",
       "       'productname', 'provider', 'context_ip', 'context_page_referrer',\n",
       "       'product_id', 'productid', 'context_campaign_medium',\n",
       "       'context_campaign_name', 'context_library_name', 'timestamp', 'uuid_ts',\n",
       "       'auth_status', 'context_page_path', 'context_page_search',\n",
       "       'context_page_title', 'product_category', 'event', 'is_recommended',\n",
       "       'original_timestamp', 'user_id', 'action', 'pr_4_4_s_novider',\n",
       "       'object_clicked', 'product_variant_id', 'cta_type', 'provider_id'],\n",
       "      dtype='object')"
      ]
     },
     "execution_count": 17,
     "metadata": {},
     "output_type": "execute_result"
    }
   ],
   "source": [
    "sdf.columns"
   ]
  },
  {
   "cell_type": "markdown",
   "metadata": {},
   "source": [
    "# Join segment & kinesis"
   ]
  },
  {
   "cell_type": "code",
   "execution_count": 24,
   "metadata": {},
   "outputs": [],
   "source": [
    "kdf_events=athena.query(\"SELECT body.event_name as page_view_event,user.anonymous_id,context.page_url,sent_at FROM data_science.ms_data_stream_production_processed WHERE body.event_name='PageView' AND context.page_url LIKE '%moneysmart.sg%' AND sent_at>= '2019-12-10'\")"
   ]
  },
  {
   "cell_type": "code",
   "execution_count": 55,
   "metadata": {},
   "outputs": [
    {
     "data": {
      "text/plain": [
       "Index(['page_view_event', 'anonymous_id', 'page_url', 'sent_at'], dtype='object')"
      ]
     },
     "execution_count": 55,
     "metadata": {},
     "output_type": "execute_result"
    }
   ],
   "source": [
    "kdf_events.columns"
   ]
  },
  {
   "cell_type": "code",
   "execution_count": 22,
   "metadata": {},
   "outputs": [],
   "source": [
    "sdf_events=pd.read_sql(\"SELECT anonymous_id,context_page_url,received_at from moneysmartsg_prod.pages WHERE CAST(received_at AS DATE) >= '2019-12-10'\",con=pgConn)"
   ]
  },
  {
   "cell_type": "code",
   "execution_count": 54,
   "metadata": {},
   "outputs": [
    {
     "data": {
      "text/plain": [
       "Index(['anonymous_id', 'context_page_url', 'received_at'], dtype='object')"
      ]
     },
     "execution_count": 54,
     "metadata": {},
     "output_type": "execute_result"
    }
   ],
   "source": [
    "sdf_events.columns"
   ]
  },
  {
   "cell_type": "code",
   "execution_count": 44,
   "metadata": {},
   "outputs": [],
   "source": [
    "merged_inner = pd.merge(kdf_events,sdf_events, on=['anonymous_id','anonymous_id'])"
   ]
  },
  {
   "cell_type": "code",
   "execution_count": 60,
   "metadata": {},
   "outputs": [
    {
     "data": {
      "text/plain": [
       "(2419420, 6)"
      ]
     },
     "execution_count": 60,
     "metadata": {},
     "output_type": "execute_result"
    }
   ],
   "source": [
    "merged_inner.shape"
   ]
  },
  {
   "cell_type": "code",
   "execution_count": 59,
   "metadata": {},
   "outputs": [
    {
     "data": {
      "text/plain": [
       "(2419420, 6)"
      ]
     },
     "execution_count": 59,
     "metadata": {},
     "output_type": "execute_result"
    }
   ],
   "source": [
    "merged_inner[(merged_inner['anonymous_id'] == merged_inner['anonymous_id']) ].shape"
   ]
  },
  {
   "cell_type": "code",
   "execution_count": null,
   "metadata": {},
   "outputs": [],
   "source": []
  }
 ],
 "metadata": {
  "kernelspec": {
   "display_name": "conda_python3",
   "language": "python",
   "name": "conda_python3"
  },
  "language_info": {
   "codemirror_mode": {
    "name": "ipython",
    "version": 3
   },
   "file_extension": ".py",
   "mimetype": "text/x-python",
   "name": "python",
   "nbconvert_exporter": "python",
   "pygments_lexer": "ipython3",
   "version": "3.6.5"
  }
 },
 "nbformat": 4,
 "nbformat_minor": 4
}
